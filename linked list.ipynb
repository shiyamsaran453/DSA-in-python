{
 "cells": [
  {
   "cell_type": "code",
   "execution_count": 9,
   "id": "77e95e65-2a6c-4892-a520-c6e39508e86f",
   "metadata": {},
   "outputs": [
    {
     "name": "stdout",
     "output_type": "stream",
     "text": [
      "88->90->70->10\n",
      "4\n"
     ]
    }
   ],
   "source": [
    "# define a class node\n",
    "class node:\n",
    "    def __init__(self,value):\n",
    "        self.value=value\n",
    "        self.next=None\n",
    "class linked_list:\n",
    "    def __init__(self):\n",
    "        self.head=None\n",
    "        self.tail=None\n",
    "        self.length=0\n",
    "        \n",
    "    def __str__(self):\n",
    "        result=''\n",
    "        temp=self.head\n",
    "        while temp is not None:\n",
    "            result+=str(temp.value)\n",
    "            if temp.next is not None:\n",
    "                result+=\"->\"\n",
    "            temp=temp.next\n",
    "        return result\n",
    "        \n",
    "    def append(self,value):\n",
    "        new_node=node(value)\n",
    "        if self.head is None:\n",
    "            self.head=new_node\n",
    "            self.tail=new_node\n",
    "        else:\n",
    "            self.tail.next=new_node\n",
    "            self.tail=new_node\n",
    "        self.length+=1\n",
    "    def insert_beg(self,value):\n",
    "        new_node=node(value)\n",
    "        if self.head is None:\n",
    "            self.head=new_node\n",
    "            self.tail=new_node\n",
    "        else:\n",
    "            temp=self.head\n",
    "            self.head=new_node\n",
    "            self.head.next=temp\n",
    "        self.length+=1\n",
    "    def insert(self,index,value):\n",
    "        new_node=node(value)\n",
    "        if self.head is None:\n",
    "            self.head=new_node\n",
    "            self.tail=new_node\n",
    "        elif index==0:\n",
    "            temp=self.head\n",
    "            new_node.next=temp\n",
    "            self.head=new_node\n",
    "        elif index==self.length:\n",
    "            self.tail.next=new_node\n",
    "            self.tail=new_node\n",
    "\n",
    "        elif index>self.length or index<0:\n",
    "            return \"there is no index no is present\"\n",
    "        else:\n",
    "            temp=self.head\n",
    "            for _ in range(index-1):\n",
    "                temp=temp.next\n",
    "            new_node.next=temp.next\n",
    "            temp.next=new_node\n",
    "        self.length+=1\n",
    "    def traverse(self):\n",
    "        current=self.head\n",
    "        while current is not None:\n",
    "            current=current.next\n",
    "    def search(self,target):\n",
    "        current=self.head\n",
    "        index=0\n",
    "        while current is not None:\n",
    "            if current.value==target:\n",
    "                return index,True\n",
    "            current=current.next\n",
    "            index+=1\n",
    "        return -1,False\n",
    "    def set(self,index,ch_value):\n",
    "        temp=self.head\n",
    "        for _ in range(index):\n",
    "            temp=temp.next\n",
    "        temp.value=ch_value\n",
    "    def pop_first(self):\n",
    "        if self.head is None:\n",
    "            print(\"unable to pop because its empty\")\n",
    "        elif self.length==1:\n",
    "            self.head=None\n",
    "            self.tail=None\n",
    "            print(\"popped\")\n",
    "        else:\n",
    "            temp=self.head\n",
    "            self.head=self.head.next\n",
    "            temp.next=None\n",
    "            self.length-=1\n",
    "            print(\"popped\")\n",
    "    def pop(self):\n",
    "        if self.head is None:\n",
    "            print(\"unable to pop because its empty\")\n",
    "        elif self.length==1:\n",
    "            self.head=None\n",
    "            self.tail=None\n",
    "            print(\"popped\")\n",
    "        else:\n",
    "            po=self.tail\n",
    "            temp=self.head\n",
    "            for _ in range(self.length-1):\n",
    "                temp=temp.next\n",
    "            self.tail=temp\n",
    "            temp.next=None\n",
    "            self.length-=1\n",
    "            print('popped')\n",
    "    def pop_any(self,index):\n",
    "        if index==0:\n",
    "            current=self.head\n",
    "            self.head=current.next\n",
    "            current=None\n",
    "        elif index==self.length-1:\n",
    "            p=self.head\n",
    "            for _ in range(index-1):\n",
    "                p=p.next\n",
    "            self.tail=p\n",
    "            p.next=None\n",
    "        elif index>=self.length:\n",
    "            return \"cant pop element because there is no index no exist\"\n",
    "            \n",
    "        else:\n",
    "            temp=self.head\n",
    "            for _ in range (index-1):\n",
    "                temp=temp.next\n",
    "            pop_node=temp.next\n",
    "            temp=pop_node.next\n",
    "            pop_node.next=None        \n",
    "        self.length-=1        \n",
    "ll=linked_list()\n",
    "#ll.insert_beg(90)\n",
    "\n",
    "#ll.insert_beg(80)\n",
    "ll.append(88)\n",
    "ll.insert(1,90)\n",
    "ll.insert(2,70)\n",
    "ll.insert(3,10)\n",
    "\n",
    "print(ll)\n",
    "print(ll.length)"
   ]
  },
  {
   "cell_type": "code",
   "execution_count": 10,
   "id": "aa80c3a9-a38e-4bff-b88d-15199a82269a",
   "metadata": {},
   "outputs": [
    {
     "name": "stdout",
     "output_type": "stream",
     "text": [
      "saran->90->70->10\n"
     ]
    }
   ],
   "source": [
    "ll.set(0,\"saran\")\n",
    "print(ll)"
   ]
  },
  {
   "cell_type": "code",
   "execution_count": 12,
   "id": "9da1b70b-e5f2-4d58-a4f1-74c91b18ac98",
   "metadata": {},
   "outputs": [
    {
     "name": "stdout",
     "output_type": "stream",
     "text": [
      "70\n",
      "saran->90->70\n"
     ]
    }
   ],
   "source": [
    "ll.pop_any(3)\n",
    "print(ll.tail.value)\n",
    "print(ll)"
   ]
  },
  {
   "cell_type": "code",
   "execution_count": 22,
   "id": "083f385b-8e94-488a-ace8-52a4d29c9ad9",
   "metadata": {},
   "outputs": [
    {
     "name": "stdout",
     "output_type": "stream",
     "text": [
      "\n"
     ]
    }
   ],
   "source": [
    "class node:\n",
    "    def __init__(self,value):\n",
    "        self.value=value\n",
    "        self.next=None\n",
    "class Solution(object):\n",
    "    def __init__(self):\n",
    "        self.head=None\n",
    "        self.tail=None\n",
    "        self.length=0\n",
    "    def __str__(self):\n",
    "        result=''\n",
    "        temp=self.head\n",
    "        while temp is not None:\n",
    "            result+=str(temp.value)\n",
    "            if temp.next is not None:\n",
    "                result+=\"->\"\n",
    "            temp=temp.next\n",
    "        return result\n",
    "    def removeNthFromEnd(self, head, n):\n",
    "        nn=node(head)\n",
    "        self.length=len(head)\n",
    "        top=node(head[0])\n",
    "        self.head=top\n",
    "        self.tail=top\n",
    "        for i in range(1,len(head)):\n",
    "            current=node(head[i])\n",
    "            top.next=current\n",
    "            top=current\n",
    "            self.tail=current\n",
    "        r=self.length-n\n",
    "        first=node(head[0])\n",
    "        first=self.head\n",
    "        for _ in range(r-1):\n",
    "            first=first.next\n",
    "        pop=first.next\n",
    "        first.next=pop.next\n",
    "        pop.next=None\n",
    "        self.length-=1       \n",
    "ll=linked_list()\n",
    "print(ll)               "
   ]
  },
  {
   "cell_type": "code",
   "execution_count": 23,
   "id": "214c8e73-39ed-4778-84ed-95dd594d549b",
   "metadata": {},
   "outputs": [
    {
     "name": "stdout",
     "output_type": "stream",
     "text": [
      "1->2->4->9->0->8 1\n"
     ]
    }
   ],
   "source": [
    "ll.removeNthFromEnd([1,2,3,4,9,0,8],5 )                \n",
    "print(ll,ll.head.value)"
   ]
  },
  {
   "cell_type": "code",
   "execution_count": null,
   "id": "6a18d56e-45e0-413f-9acb-948e69cfc830",
   "metadata": {},
   "outputs": [],
   "source": []
  },
  {
   "cell_type": "code",
   "execution_count": null,
   "id": "a1bb6dc3-6946-4a14-ba92-66a6b901dd30",
   "metadata": {},
   "outputs": [],
   "source": []
  },
  {
   "cell_type": "code",
   "execution_count": null,
   "id": "7189bbdc-1c16-46f7-baec-c677770c7e38",
   "metadata": {},
   "outputs": [],
   "source": []
  }
 ],
 "metadata": {
  "kernelspec": {
   "display_name": "Python 3 (ipykernel)",
   "language": "python",
   "name": "python3"
  },
  "language_info": {
   "codemirror_mode": {
    "name": "ipython",
    "version": 3
   },
   "file_extension": ".py",
   "mimetype": "text/x-python",
   "name": "python",
   "nbconvert_exporter": "python",
   "pygments_lexer": "ipython3",
   "version": "3.11.8"
  }
 },
 "nbformat": 4,
 "nbformat_minor": 5
}
